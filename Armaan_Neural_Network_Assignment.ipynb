{
 "cells": [
  {
   "cell_type": "markdown",
   "id": "6aa41432",
   "metadata": {},
   "source": [
    "# Algerian Forest Fires - Linear Regression Assignment\n",
    "**Date:** 2025-05-22\n",
    "\n",
    "**Name - Armaan Verma**\n",
    "\n",
    "**Student ID - 935308**\n",
    "\n",
    "In this assignment, I have analyzed the Algerian forest fire dataset to predict the Fire Weather Index (FWI) using linear regression and its regularization variants."
   ]
  },
  {
   "cell_type": "markdown",
   "id": "4712ec72",
   "metadata": {},
   "source": [
    "## 1. Data Cleaning and Preprocessing"
   ]
  },
  {
   "cell_type": "markdown",
   "id": "05555f9c",
   "metadata": {},
   "source": [
    "# Data Loading\n",
    "This section loads the cleaned dataset containing Algerian forest fire records and previews the data."
   ]
  },
  {
   "cell_type": "markdown",
   "id": "9a601b54",
   "metadata": {},
   "source": [
    "# Data Loading\n",
    "This section loads the cleaned dataset containing Algerian forest fire records and previews the data."
   ]
  },
  {
   "cell_type": "markdown",
   "id": "655b72ee",
   "metadata": {},
   "source": [
    "# Dataset Inspection\n",
    "We check the dataset structure and look for any missing values that might affect analysis."
   ]
  },
  {
   "cell_type": "code",
   "execution_count": 11,
   "id": "61940c2f",
   "metadata": {},
   "outputs": [
    {
     "data": {
      "text/html": [
       "<div>\n",
       "<style scoped>\n",
       "    .dataframe tbody tr th:only-of-type {\n",
       "        vertical-align: middle;\n",
       "    }\n",
       "\n",
       "    .dataframe tbody tr th {\n",
       "        vertical-align: top;\n",
       "    }\n",
       "\n",
       "    .dataframe thead th {\n",
       "        text-align: right;\n",
       "    }\n",
       "</style>\n",
       "<table border=\"1\" class=\"dataframe\">\n",
       "  <thead>\n",
       "    <tr style=\"text-align: right;\">\n",
       "      <th></th>\n",
       "      <th>day</th>\n",
       "      <th>month</th>\n",
       "      <th>year</th>\n",
       "      <th>Temperature</th>\n",
       "      <th>RH</th>\n",
       "      <th>Ws</th>\n",
       "      <th>Rain</th>\n",
       "      <th>FFMC</th>\n",
       "      <th>DMC</th>\n",
       "      <th>DC</th>\n",
       "      <th>ISI</th>\n",
       "      <th>BUI</th>\n",
       "      <th>FWI</th>\n",
       "      <th>Classes</th>\n",
       "      <th>Region</th>\n",
       "    </tr>\n",
       "  </thead>\n",
       "  <tbody>\n",
       "    <tr>\n",
       "      <th>0</th>\n",
       "      <td>1</td>\n",
       "      <td>6</td>\n",
       "      <td>2012</td>\n",
       "      <td>29</td>\n",
       "      <td>57</td>\n",
       "      <td>18</td>\n",
       "      <td>0.0</td>\n",
       "      <td>65.7</td>\n",
       "      <td>3.4</td>\n",
       "      <td>7.6</td>\n",
       "      <td>1.3</td>\n",
       "      <td>3.4</td>\n",
       "      <td>0.5</td>\n",
       "      <td>not fire</td>\n",
       "      <td>0</td>\n",
       "    </tr>\n",
       "    <tr>\n",
       "      <th>1</th>\n",
       "      <td>2</td>\n",
       "      <td>6</td>\n",
       "      <td>2012</td>\n",
       "      <td>29</td>\n",
       "      <td>61</td>\n",
       "      <td>13</td>\n",
       "      <td>1.3</td>\n",
       "      <td>64.4</td>\n",
       "      <td>4.1</td>\n",
       "      <td>7.6</td>\n",
       "      <td>1.0</td>\n",
       "      <td>3.9</td>\n",
       "      <td>0.4</td>\n",
       "      <td>not fire</td>\n",
       "      <td>0</td>\n",
       "    </tr>\n",
       "    <tr>\n",
       "      <th>2</th>\n",
       "      <td>3</td>\n",
       "      <td>6</td>\n",
       "      <td>2012</td>\n",
       "      <td>26</td>\n",
       "      <td>82</td>\n",
       "      <td>22</td>\n",
       "      <td>13.1</td>\n",
       "      <td>47.1</td>\n",
       "      <td>2.5</td>\n",
       "      <td>7.1</td>\n",
       "      <td>0.3</td>\n",
       "      <td>2.7</td>\n",
       "      <td>0.1</td>\n",
       "      <td>not fire</td>\n",
       "      <td>0</td>\n",
       "    </tr>\n",
       "    <tr>\n",
       "      <th>3</th>\n",
       "      <td>4</td>\n",
       "      <td>6</td>\n",
       "      <td>2012</td>\n",
       "      <td>25</td>\n",
       "      <td>89</td>\n",
       "      <td>13</td>\n",
       "      <td>2.5</td>\n",
       "      <td>28.6</td>\n",
       "      <td>1.3</td>\n",
       "      <td>6.9</td>\n",
       "      <td>0.0</td>\n",
       "      <td>1.7</td>\n",
       "      <td>0.0</td>\n",
       "      <td>not fire</td>\n",
       "      <td>0</td>\n",
       "    </tr>\n",
       "    <tr>\n",
       "      <th>4</th>\n",
       "      <td>5</td>\n",
       "      <td>6</td>\n",
       "      <td>2012</td>\n",
       "      <td>27</td>\n",
       "      <td>77</td>\n",
       "      <td>16</td>\n",
       "      <td>0.0</td>\n",
       "      <td>64.8</td>\n",
       "      <td>3.0</td>\n",
       "      <td>14.2</td>\n",
       "      <td>1.2</td>\n",
       "      <td>3.9</td>\n",
       "      <td>0.5</td>\n",
       "      <td>not fire</td>\n",
       "      <td>0</td>\n",
       "    </tr>\n",
       "  </tbody>\n",
       "</table>\n",
       "</div>"
      ],
      "text/plain": [
       "   day  month  year  Temperature  RH  Ws  Rain  FFMC  DMC    DC  ISI  BUI  \\\n",
       "0    1      6  2012           29  57  18   0.0  65.7  3.4   7.6  1.3  3.4   \n",
       "1    2      6  2012           29  61  13   1.3  64.4  4.1   7.6  1.0  3.9   \n",
       "2    3      6  2012           26  82  22  13.1  47.1  2.5   7.1  0.3  2.7   \n",
       "3    4      6  2012           25  89  13   2.5  28.6  1.3   6.9  0.0  1.7   \n",
       "4    5      6  2012           27  77  16   0.0  64.8  3.0  14.2  1.2  3.9   \n",
       "\n",
       "   FWI      Classes  Region  \n",
       "0  0.5  not fire          0  \n",
       "1  0.4  not fire          0  \n",
       "2  0.1  not fire          0  \n",
       "3  0.0  not fire          0  \n",
       "4  0.5  not fire          0  "
      ]
     },
     "execution_count": 11,
     "metadata": {},
     "output_type": "execute_result"
    }
   ],
   "source": [
    "import pandas as pd\n",
    "import numpy as np\n",
    "import seaborn as sns\n",
    "import matplotlib.pyplot as plt\n",
    "\n",
    "# Load the cleaned Algerian forest fires dataset\n",
    "forest_fire_data = pd.read_csv('Algerian_forest_fires_cleaned.csv')\n",
    "\n",
    "# Display the first few rows of the dataset to understand its structure\n",
    "forest_fire_data.head()"
   ]
  },
  {
   "cell_type": "markdown",
   "id": "9c9b06b7",
   "metadata": {},
   "source": [
    "# Feature Selection\n",
    "Here we separate the feature variables from the target variable 'FWI' (Fire Weather Index)."
   ]
  },
  {
   "cell_type": "markdown",
   "id": "a213c027",
   "metadata": {},
   "source": [
    "# Dataset Inspection\n",
    "We check the dataset structure and look for any missing values that might affect analysis."
   ]
  },
  {
   "cell_type": "code",
   "execution_count": 12,
   "id": "6f3ed88e",
   "metadata": {},
   "outputs": [
    {
     "name": "stdout",
     "output_type": "stream",
     "text": [
      "<class 'pandas.core.frame.DataFrame'>\n",
      "RangeIndex: 243 entries, 0 to 242\n",
      "Data columns (total 15 columns):\n",
      " #   Column       Non-Null Count  Dtype  \n",
      "---  ------       --------------  -----  \n",
      " 0   day          243 non-null    int64  \n",
      " 1   month        243 non-null    int64  \n",
      " 2   year         243 non-null    int64  \n",
      " 3   Temperature  243 non-null    int64  \n",
      " 4   RH           243 non-null    int64  \n",
      " 5   Ws           243 non-null    int64  \n",
      " 6   Rain         243 non-null    float64\n",
      " 7   FFMC         243 non-null    float64\n",
      " 8   DMC          243 non-null    float64\n",
      " 9   DC           243 non-null    float64\n",
      " 10  ISI          243 non-null    float64\n",
      " 11  BUI          243 non-null    float64\n",
      " 12  FWI          243 non-null    float64\n",
      " 13  Classes      243 non-null    object \n",
      " 14  Region       243 non-null    int64  \n",
      "dtypes: float64(7), int64(7), object(1)\n",
      "memory usage: 28.6+ KB\n",
      "None\n",
      "day            0\n",
      "month          0\n",
      "year           0\n",
      "Temperature    0\n",
      "RH             0\n",
      "Ws             0\n",
      "Rain           0\n",
      "FFMC           0\n",
      "DMC            0\n",
      "DC             0\n",
      "ISI            0\n",
      "BUI            0\n",
      "FWI            0\n",
      "Classes        0\n",
      "Region         0\n",
      "dtype: int64\n"
     ]
    }
   ],
   "source": [
    "# Display the structure of the dataset and check for missing values\n",
    "print(forest_fire_data.info())\n",
    "print(forest_fire_data.isnull().sum())"
   ]
  },
  {
   "cell_type": "markdown",
   "id": "9523a3aa",
   "metadata": {},
   "source": [
    "# Correlation Analysis\n",
    "We examine correlations between numerical features_data using a heatmap to understand feature relationships."
   ]
  },
  {
   "cell_type": "markdown",
   "id": "79c38731",
   "metadata": {},
   "source": [
    "# Feature Selection\n",
    "Here we separate the feature variables from the target variable 'FWI' (Fire Weather Index)."
   ]
  },
  {
   "cell_type": "markdown",
   "id": "c95d4bb3",
   "metadata": {},
   "source": [
    "# Exploratory Data Analysis\n",
    "This plot visualizes how temperature correlates with the fire weather index."
   ]
  },
  {
   "cell_type": "code",
   "execution_count": 13,
   "id": "0b2fb7f8",
   "metadata": {},
   "outputs": [],
   "source": [
    "# Separate features from the target variable 'FWI' (Fire Weather Index)\n",
    "features_data = forest_fire_data.drop(['FWI'], axis=1)  # Assuming 'FWI' is the target\n",
    "target_fwi = forest_fire_data['FWI']"
   ]
  },
  {
   "cell_type": "markdown",
   "id": "0969ce70",
   "metadata": {},
   "source": [
    "import matplotlib.pyplot as plt\n",
    "import seaborn as sns\n",
    "\n",
    "# Plot a heatmap showing correlation between numerical features\n",
    "plt.figure(figsize=(10, 8))\n",
    "sns.heatmap(forest_fire_data.select_dtypes(include='number').corr(), annot=True, cmap='coolwarm')\n",
    "plt.title('Correlation Heatmap of Numerical Features')\n",
    "plt.show()"
   ]
  },
  {
   "cell_type": "markdown",
   "id": "648fec7c",
   "metadata": {},
   "source": [
    "# Correlation Analysis\n",
    "We examine correlations between numerical features_data_data_data_data_data_data_data using a heatmap to understand feature relationships."
   ]
  },
  {
   "cell_type": "code",
   "execution_count": 14,
   "id": "6aab3421",
   "metadata": {},
   "outputs": [
    {
     "data": {
      "image/png": "[encoded data removed]",
      "text/plain": [
       "<Figure size 640x480 with 1 Axes>"
      ]
     },
     "metadata": {},
     "output_type": "display_data"
    }
   ],
   "source": [
    "# Visualize the relationship between Temperature and Fire Weather Index (FWI)\n",
    "sns.scatterplot(data=forest_fire_data, x='Temperature', y='FWI')\n",
    "plt.title('Scatter Plot: Temperature vs FWI')\n",
    "plt.xlabel('Temperature (°C)')\n",
    "plt.ylabel('Fire Weather Index (FWI)')\n",
    "plt.show()"
   ]
  },
  {
   "cell_type": "markdown",
   "id": "6c8c9870",
   "metadata": {},
   "source": [
    "# Exploratory Data Analysis\n",
    "This plot visualizes how temperature correlates with the fire weather index."
   ]
  },
  {
   "cell_type": "code",
   "execution_count": 18,
   "id": "aaa0e4e9",
   "metadata": {},
   "outputs": [
    {
     "data": {
      "image/png": "[encoded data removed]",
      "text/plain": [
       "<Figure size 640x480 with 1 Axes>"
      ]
     },
     "metadata": {},
     "output_type": "display_data"
    }
   ],
   "source": [
    "# Example: Scatterplot between Temperature and FWI\n",
    "sns.scatterplot(data=forest_fire_data, x='Temperature', y='FWI')\n",
    "plt.title('Temperature vs FWI')\n",
    "plt.show()"
   ]
  },
  {
   "cell_type": "markdown",
   "id": "95f2e94d",
   "metadata": {},
   "source": [
    "**Observations:**\n",
    "- Temperature and wind appear positively correlated with FWI.\n",
    "- RH may be negatively correlated.\n"
   ]
  },
  {
   "cell_type": "markdown",
   "id": "718d220c",
   "metadata": {},
   "source": [
    "## 3. Model Development and Analysis"
   ]
  },
  {
   "cell_type": "code",
   "execution_count": null,
   "id": "25862279",
   "metadata": {},
   "outputs": [
    {
     "name": "stdout",
     "output_type": "stream",
     "text": [
      "Classes: ['not fire   ' 'fire   ' 'fire' 'fire ' 'not fire' 'not fire '\n",
      " 'not fire     ' 'not fire    ']\n"
     ]
    }
   ],
   "source": [
    "for col in features_data.columns:\n",
    "    if features_data[col].dtype == 'object':\n",
    "        print(f\"{col}: {features_data[col].unique()}\")\n"
   ]
  },
  {
   "cell_type": "code",
   "execution_count": 22,
   "id": "2eff7e57",
   "metadata": {},
   "outputs": [],
   "source": [
    "# Strip leading/trailing spaces\n",
    "forest_fire_data['Classes'] = forest_fire_data['Classes'].str.strip()\n",
    "\n",
    "# Optional: Map 'Classes' to binary (if needed)\n",
    "# forest_fire_data['Classes'] = forest_fire_data['Classes'].map({'not fire': 0, 'fire': 1})\n",
    "\n",
    "# If you're not using 'Classes' in features, drop it\n",
    "features_data = forest_fire_data.drop(['FWI', 'Classes'], axis=1)  # adjust as needed\n",
    "target = forest_fire_data['FWI']\n"
   ]
  },
  {
   "cell_type": "code",
   "execution_count": 23,
   "id": "24442d24",
   "metadata": {},
   "outputs": [
    {
     "name": "stdout",
     "output_type": "stream",
     "text": [
      "day              int64\n",
      "month            int64\n",
      "year             int64\n",
      "Temperature      int64\n",
      "RH               int64\n",
      "Ws               int64\n",
      "Rain           float64\n",
      "FFMC           float64\n",
      "DMC            float64\n",
      "DC             float64\n",
      "ISI            float64\n",
      "BUI            float64\n",
      "Region           int64\n",
      "dtype: object\n"
     ]
    }
   ],
   "source": [
    "print(features_data.dtypes)\n"
   ]
  },
  {
   "cell_type": "code",
   "execution_count": 24,
   "id": "3d6d4f2f",
   "metadata": {},
   "outputs": [],
   "source": [
    "features_data= pd.get_dummies(features_data)\n"
   ]
  },
  {
   "cell_type": "code",
   "execution_count": 26,
   "id": "8b169e5a",
   "metadata": {},
   "outputs": [],
   "source": [
    "from sklearn.model_selection import train_test_split\n",
    "from sklearn.linear_model import LinearRegression, Ridge, Lasso\n",
    "from sklearn.metrics import mean_squared_error, r2_score, mean_absolute_error\n",
    "\n",
    "# Train-test split\n",
    "X_train, X_test, y_train, y_test = train_test_split(features_data, target, test_size=0.2, random_state=42)\n",
    "\n",
    "# Train the Linear Regression model\n",
    "lr = LinearRegression()\n",
    "lr.fit(X_train, y_train)\n",
    "\n",
    "# Predict on the test set\n",
    "y_pred_lr = lr.predict(X_test)\n"
   ]
  },
  {
   "cell_type": "markdown",
   "id": "b85a5ccb",
   "metadata": {},
   "source": [
    "## 4. Model Evaluation and Testing"
   ]
  },
  {
   "cell_type": "code",
   "execution_count": 27,
   "id": "e393e2f3",
   "metadata": {},
   "outputs": [
    {
     "name": "stdout",
     "output_type": "stream",
     "text": [
      "Linear Regression R2: 0.9876914472249015\n",
      "Linear Regression RMSE: 0.6107804887620938\n",
      "Linear Regression MAE: 0.45512857820661246\n"
     ]
    }
   ],
   "source": [
    "# Evaluation metrics for Linear Regression\n",
    "print(\"Linear Regression R2:\", r2_score(y_test, y_pred_lr))\n",
    "print(\"Linear Regression RMSE:\", np.sqrt(mean_squared_error(y_test, y_pred_lr)))\n",
    "print(\"Linear Regression MAE:\", mean_absolute_error(y_test, y_pred_lr))"
   ]
  },
  {
   "cell_type": "code",
   "execution_count": 28,
   "id": "50d1ed57",
   "metadata": {},
   "outputs": [
    {
     "name": "stdout",
     "output_type": "stream",
     "text": [
      "Best Ridge Alpha: {'alpha': 100}\n",
      "Ridge R2: 0.9775919109989542\n",
      "Best Lasso Alpha: {'alpha': 0.1}\n",
      "Lasso R2: 0.9857711128008882\n"
     ]
    },
    {
     "name": "stderr",
     "output_type": "stream",
     "text": [
      "C:\\Users\\User\\AppData\\Local\\Packages\\PythonSoftwareFoundation.Python.3.13_qbz5n2kfra8p0\\LocalCache\\local-packages\\Python313\\site-packages\\sklearn\\linear_model\\_coordinate_descent.py:695: ConvergenceWarning: Objective did not converge. You might want to increase the number of iterations, check the scale of the features or consider increasing regularisation. Duality gap: 1.248e+02, tolerance: 9.104e-01\n",
      "  model = cd_fast.enet_coordinate_descent(\n",
      "C:\\Users\\User\\AppData\\Local\\Packages\\PythonSoftwareFoundation.Python.3.13_qbz5n2kfra8p0\\LocalCache\\local-packages\\Python313\\site-packages\\sklearn\\linear_model\\_coordinate_descent.py:695: ConvergenceWarning: Objective did not converge. You might want to increase the number of iterations, check the scale of the features or consider increasing regularisation. Duality gap: 1.034e+02, tolerance: 9.264e-01\n",
      "  model = cd_fast.enet_coordinate_descent(\n",
      "C:\\Users\\User\\AppData\\Local\\Packages\\PythonSoftwareFoundation.Python.3.13_qbz5n2kfra8p0\\LocalCache\\local-packages\\Python313\\site-packages\\sklearn\\linear_model\\_coordinate_descent.py:695: ConvergenceWarning: Objective did not converge. You might want to increase the number of iterations, check the scale of the features or consider increasing regularisation. Duality gap: 3.798e+01, tolerance: 9.824e-01\n",
      "  model = cd_fast.enet_coordinate_descent(\n",
      "C:\\Users\\User\\AppData\\Local\\Packages\\PythonSoftwareFoundation.Python.3.13_qbz5n2kfra8p0\\LocalCache\\local-packages\\Python313\\site-packages\\sklearn\\linear_model\\_coordinate_descent.py:695: ConvergenceWarning: Objective did not converge. You might want to increase the number of iterations, check the scale of the features or consider increasing regularisation. Duality gap: 1.030e+02, tolerance: 8.706e-01\n",
      "  model = cd_fast.enet_coordinate_descent(\n",
      "C:\\Users\\User\\AppData\\Local\\Packages\\PythonSoftwareFoundation.Python.3.13_qbz5n2kfra8p0\\LocalCache\\local-packages\\Python313\\site-packages\\sklearn\\linear_model\\_coordinate_descent.py:695: ConvergenceWarning: Objective did not converge. You might want to increase the number of iterations, check the scale of the features or consider increasing regularisation. Duality gap: 1.250e+02, tolerance: 1.013e+00\n",
      "  model = cd_fast.enet_coordinate_descent(\n",
      "C:\\Users\\User\\AppData\\Local\\Packages\\PythonSoftwareFoundation.Python.3.13_qbz5n2kfra8p0\\LocalCache\\local-packages\\Python313\\site-packages\\sklearn\\linear_model\\_coordinate_descent.py:695: ConvergenceWarning: Objective did not converge. You might want to increase the number of iterations, check the scale of the features or consider increasing regularisation. Duality gap: 2.713e+01, tolerance: 9.104e-01\n",
      "  model = cd_fast.enet_coordinate_descent(\n",
      "C:\\Users\\User\\AppData\\Local\\Packages\\PythonSoftwareFoundation.Python.3.13_qbz5n2kfra8p0\\LocalCache\\local-packages\\Python313\\site-packages\\sklearn\\linear_model\\_coordinate_descent.py:695: ConvergenceWarning: Objective did not converge. You might want to increase the number of iterations, check the scale of the features or consider increasing regularisation. Duality gap: 1.201e+00, tolerance: 1.013e+00\n",
      "  model = cd_fast.enet_coordinate_descent(\n"
     ]
    }
   ],
   "source": [
    "# Ridge & Lasso Regression with Cross-Validation\n",
    "from sklearn.model_selection import GridSearchCV\n",
    "\n",
    "# Ridge\n",
    "ridge = Ridge()\n",
    "params = {'alpha': [0.01, 0.1, 1, 10, 100]}\n",
    "grid_ridge = GridSearchCV(ridge, params, cv=5, scoring='r2')\n",
    "grid_ridge.fit(X_train, y_train)\n",
    "print(\"Best Ridge Alpha:\", grid_ridge.best_params_)\n",
    "print(\"Ridge R2:\", grid_ridge.score(X_test, y_test))\n",
    "\n",
    "# Lasso\n",
    "lasso = Lasso()\n",
    "grid_lasso = GridSearchCV(lasso, params, cv=5, scoring='r2')\n",
    "grid_lasso.fit(X_train, y_train)\n",
    "print(\"Best Lasso Alpha:\", grid_lasso.best_params_)\n",
    "print(\"Lasso R2:\", grid_lasso.score(X_test, y_test))"
   ]
  },
  {
   "cell_type": "markdown",
   "id": "08e40b6b",
   "metadata": {},
   "source": [
    "## 5. Save Final Model with Pickle"
   ]
  },
  {
   "cell_type": "code",
   "execution_count": 29,
   "id": "b71946c1",
   "metadata": {},
   "outputs": [],
   "source": [
    "import pickle\n",
    "\n",
    "# Save the best model (example: Ridge)\n",
    "with open('final_model.pkl', 'wb') as f:\n",
    "    pickle.dump(grid_ridge.best_estimator_, f)"
   ]
  },
  {
   "cell_type": "markdown",
   "id": "d581f072",
   "metadata": {},
   "source": [
    "## 6. Conclusion\n",
    "- Linear regression and its regularized versions (Ridge, Lasso) were tested.\n",
    "- Ridge performed best with tuned alpha.\n",
    "- Model was saved using `pickle` and is ready for deployment."
   ]
  },
  {
   "cell_type": "code",
   "execution_count": null,
   "id": "8806f21b",
   "metadata": {},
   "outputs": [],
   "source": []
  }
 ],
 "metadata": {
  "colab": {
   "provenance": []
  },
  "kernelspec": {
   "display_name": "Python 3",
   "name": "python3"
  },
  "language_info": {
   "codemirror_mode": {
    "name": "ipython",
    "version": 3
   },
   "file_extension": ".py",
   "mimetype": "text/x-python",
   "name": "python",
   "nbconvert_exporter": "python",
   "pygments_lexer": "ipython3",
   "version": "3.13.3"
  }
 },
 "nbformat": 4,
 "nbformat_minor": 5
}
